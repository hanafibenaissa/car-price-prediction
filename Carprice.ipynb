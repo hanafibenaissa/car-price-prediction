{
 "cells": [
  {
   "cell_type": "code",
   "execution_count": 147,
   "id": "54e13515-cc33-42c6-beb9-bbf5181c9914",
   "metadata": {
    "tags": []
   },
   "outputs": [],
   "source": [
    "import pandas as pd"
   ]
  },
  {
   "cell_type": "code",
   "execution_count": 149,
   "id": "fcf67adf-205e-485c-9276-152ffe3c5c1d",
   "metadata": {
    "tags": []
   },
   "outputs": [
    {
     "data": {
      "text/html": [
       "<div>\n",
       "<style scoped>\n",
       "    .dataframe tbody tr th:only-of-type {\n",
       "        vertical-align: middle;\n",
       "    }\n",
       "\n",
       "    .dataframe tbody tr th {\n",
       "        vertical-align: top;\n",
       "    }\n",
       "\n",
       "    .dataframe thead th {\n",
       "        text-align: right;\n",
       "    }\n",
       "</style>\n",
       "<table border=\"1\" class=\"dataframe\">\n",
       "  <thead>\n",
       "    <tr style=\"text-align: right;\">\n",
       "      <th></th>\n",
       "      <th>name</th>\n",
       "      <th>year</th>\n",
       "      <th>selling_price</th>\n",
       "      <th>km_driven</th>\n",
       "      <th>fuel</th>\n",
       "      <th>seller_type</th>\n",
       "      <th>transmission</th>\n",
       "      <th>owner</th>\n",
       "    </tr>\n",
       "  </thead>\n",
       "  <tbody>\n",
       "    <tr>\n",
       "      <th>0</th>\n",
       "      <td>Maruti 800 AC</td>\n",
       "      <td>2007</td>\n",
       "      <td>60000</td>\n",
       "      <td>70000</td>\n",
       "      <td>Petrol</td>\n",
       "      <td>Individual</td>\n",
       "      <td>Manual</td>\n",
       "      <td>First Owner</td>\n",
       "    </tr>\n",
       "    <tr>\n",
       "      <th>1</th>\n",
       "      <td>Maruti Wagon R LXI Minor</td>\n",
       "      <td>2007</td>\n",
       "      <td>135000</td>\n",
       "      <td>50000</td>\n",
       "      <td>Petrol</td>\n",
       "      <td>Individual</td>\n",
       "      <td>Manual</td>\n",
       "      <td>First Owner</td>\n",
       "    </tr>\n",
       "    <tr>\n",
       "      <th>2</th>\n",
       "      <td>Hyundai Verna 1.6 SX</td>\n",
       "      <td>2012</td>\n",
       "      <td>600000</td>\n",
       "      <td>100000</td>\n",
       "      <td>Diesel</td>\n",
       "      <td>Individual</td>\n",
       "      <td>Manual</td>\n",
       "      <td>First Owner</td>\n",
       "    </tr>\n",
       "    <tr>\n",
       "      <th>3</th>\n",
       "      <td>Datsun RediGO T Option</td>\n",
       "      <td>2017</td>\n",
       "      <td>250000</td>\n",
       "      <td>46000</td>\n",
       "      <td>Petrol</td>\n",
       "      <td>Individual</td>\n",
       "      <td>Manual</td>\n",
       "      <td>First Owner</td>\n",
       "    </tr>\n",
       "    <tr>\n",
       "      <th>4</th>\n",
       "      <td>Honda Amaze VX i-DTEC</td>\n",
       "      <td>2014</td>\n",
       "      <td>450000</td>\n",
       "      <td>141000</td>\n",
       "      <td>Diesel</td>\n",
       "      <td>Individual</td>\n",
       "      <td>Manual</td>\n",
       "      <td>Second Owner</td>\n",
       "    </tr>\n",
       "  </tbody>\n",
       "</table>\n",
       "</div>"
      ],
      "text/plain": [
       "                       name  year  selling_price  km_driven    fuel  \\\n",
       "0             Maruti 800 AC  2007          60000      70000  Petrol   \n",
       "1  Maruti Wagon R LXI Minor  2007         135000      50000  Petrol   \n",
       "2      Hyundai Verna 1.6 SX  2012         600000     100000  Diesel   \n",
       "3    Datsun RediGO T Option  2017         250000      46000  Petrol   \n",
       "4     Honda Amaze VX i-DTEC  2014         450000     141000  Diesel   \n",
       "\n",
       "  seller_type transmission         owner  \n",
       "0  Individual       Manual   First Owner  \n",
       "1  Individual       Manual   First Owner  \n",
       "2  Individual       Manual   First Owner  \n",
       "3  Individual       Manual   First Owner  \n",
       "4  Individual       Manual  Second Owner  "
      ]
     },
     "execution_count": 149,
     "metadata": {},
     "output_type": "execute_result"
    }
   ],
   "source": [
    "df=pd.read_csv(\"CAR DETAILS FROM CAR DEKHO.csv\")\n",
    "df.head()"
   ]
  },
  {
   "cell_type": "code",
   "execution_count": 151,
   "id": "4a6f9307-700f-4b98-a81e-fd9eedddc3d7",
   "metadata": {
    "tags": []
   },
   "outputs": [
    {
     "data": {
      "text/plain": [
       "Index(['name', 'year', 'selling_price', 'km_driven', 'fuel', 'seller_type',\n",
       "       'transmission', 'owner'],\n",
       "      dtype='object')"
      ]
     },
     "execution_count": 151,
     "metadata": {},
     "output_type": "execute_result"
    }
   ],
   "source": [
    "df.columns"
   ]
  },
  {
   "cell_type": "code",
   "execution_count": 153,
   "id": "fe597526-4ba7-44e6-947f-acef04731d29",
   "metadata": {
    "tags": []
   },
   "outputs": [
    {
     "data": {
      "text/plain": [
       "(4340, 8)"
      ]
     },
     "execution_count": 153,
     "metadata": {},
     "output_type": "execute_result"
    }
   ],
   "source": [
    "df.shape"
   ]
  },
  {
   "cell_type": "code",
   "execution_count": 155,
   "id": "4e66ceee-4055-435a-bbaa-88d7c6b107ec",
   "metadata": {
    "tags": []
   },
   "outputs": [],
   "source": [
    "Marques=[]\n",
    "for i in range(len(df)):\n",
    "    c=\"\"\n",
    "    for j in range(len(df[\"name\"][i])):\n",
    "        if(df[\"name\"][i][j]== ' '):\n",
    "            break\n",
    "        else:\n",
    "            c=c+df[\"name\"][i][j]\n",
    "    Marques.append(c)\n",
    "\n"
   ]
  },
  {
   "cell_type": "code",
   "execution_count": 156,
   "id": "c48bd421-fe9a-412f-b24b-b0ba09b94d23",
   "metadata": {
    "tags": []
   },
   "outputs": [],
   "source": [
    "df[\"Brand\"]=Marques\n",
    "df[\"Brand\"].replace(\"Land\",\"Land Rover\",inplace=True)\n"
   ]
  },
  {
   "cell_type": "code",
   "execution_count": 158,
   "id": "888c2ceb-c9a1-4bfe-a2b5-259e8f749472",
   "metadata": {
    "tags": []
   },
   "outputs": [
    {
     "data": {
      "text/html": [
       "<div>\n",
       "<style scoped>\n",
       "    .dataframe tbody tr th:only-of-type {\n",
       "        vertical-align: middle;\n",
       "    }\n",
       "\n",
       "    .dataframe tbody tr th {\n",
       "        vertical-align: top;\n",
       "    }\n",
       "\n",
       "    .dataframe thead th {\n",
       "        text-align: right;\n",
       "    }\n",
       "</style>\n",
       "<table border=\"1\" class=\"dataframe\">\n",
       "  <thead>\n",
       "    <tr style=\"text-align: right;\">\n",
       "      <th></th>\n",
       "      <th>name</th>\n",
       "      <th>year</th>\n",
       "      <th>selling_price</th>\n",
       "      <th>km_driven</th>\n",
       "      <th>fuel</th>\n",
       "      <th>seller_type</th>\n",
       "      <th>transmission</th>\n",
       "      <th>owner</th>\n",
       "      <th>Brand</th>\n",
       "    </tr>\n",
       "  </thead>\n",
       "  <tbody>\n",
       "    <tr>\n",
       "      <th>0</th>\n",
       "      <td>Maruti 800 AC</td>\n",
       "      <td>2007</td>\n",
       "      <td>60000</td>\n",
       "      <td>70000</td>\n",
       "      <td>Petrol</td>\n",
       "      <td>Individual</td>\n",
       "      <td>Manual</td>\n",
       "      <td>First Owner</td>\n",
       "      <td>Maruti</td>\n",
       "    </tr>\n",
       "    <tr>\n",
       "      <th>1</th>\n",
       "      <td>Maruti Wagon R LXI Minor</td>\n",
       "      <td>2007</td>\n",
       "      <td>135000</td>\n",
       "      <td>50000</td>\n",
       "      <td>Petrol</td>\n",
       "      <td>Individual</td>\n",
       "      <td>Manual</td>\n",
       "      <td>First Owner</td>\n",
       "      <td>Maruti</td>\n",
       "    </tr>\n",
       "    <tr>\n",
       "      <th>2</th>\n",
       "      <td>Hyundai Verna 1.6 SX</td>\n",
       "      <td>2012</td>\n",
       "      <td>600000</td>\n",
       "      <td>100000</td>\n",
       "      <td>Diesel</td>\n",
       "      <td>Individual</td>\n",
       "      <td>Manual</td>\n",
       "      <td>First Owner</td>\n",
       "      <td>Hyundai</td>\n",
       "    </tr>\n",
       "    <tr>\n",
       "      <th>3</th>\n",
       "      <td>Datsun RediGO T Option</td>\n",
       "      <td>2017</td>\n",
       "      <td>250000</td>\n",
       "      <td>46000</td>\n",
       "      <td>Petrol</td>\n",
       "      <td>Individual</td>\n",
       "      <td>Manual</td>\n",
       "      <td>First Owner</td>\n",
       "      <td>Datsun</td>\n",
       "    </tr>\n",
       "    <tr>\n",
       "      <th>4</th>\n",
       "      <td>Honda Amaze VX i-DTEC</td>\n",
       "      <td>2014</td>\n",
       "      <td>450000</td>\n",
       "      <td>141000</td>\n",
       "      <td>Diesel</td>\n",
       "      <td>Individual</td>\n",
       "      <td>Manual</td>\n",
       "      <td>Second Owner</td>\n",
       "      <td>Honda</td>\n",
       "    </tr>\n",
       "  </tbody>\n",
       "</table>\n",
       "</div>"
      ],
      "text/plain": [
       "                       name  year  selling_price  km_driven    fuel  \\\n",
       "0             Maruti 800 AC  2007          60000      70000  Petrol   \n",
       "1  Maruti Wagon R LXI Minor  2007         135000      50000  Petrol   \n",
       "2      Hyundai Verna 1.6 SX  2012         600000     100000  Diesel   \n",
       "3    Datsun RediGO T Option  2017         250000      46000  Petrol   \n",
       "4     Honda Amaze VX i-DTEC  2014         450000     141000  Diesel   \n",
       "\n",
       "  seller_type transmission         owner    Brand  \n",
       "0  Individual       Manual   First Owner   Maruti  \n",
       "1  Individual       Manual   First Owner   Maruti  \n",
       "2  Individual       Manual   First Owner  Hyundai  \n",
       "3  Individual       Manual   First Owner   Datsun  \n",
       "4  Individual       Manual  Second Owner    Honda  "
      ]
     },
     "execution_count": 158,
     "metadata": {},
     "output_type": "execute_result"
    }
   ],
   "source": [
    "df.head()"
   ]
  },
  {
   "cell_type": "code",
   "execution_count": 161,
   "id": "2e11328a-0584-4ace-9a17-59ac6c274151",
   "metadata": {
    "tags": []
   },
   "outputs": [
    {
     "data": {
      "text/plain": [
       "Brand\n",
       "Ambassador       1.800000e+05\n",
       "Audi             1.931633e+06\n",
       "BMW              2.945385e+06\n",
       "Chevrolet        2.367271e+05\n",
       "Daewoo           6.000000e+04\n",
       "Datsun           2.970269e+05\n",
       "Fiat             2.834324e+05\n",
       "Force            3.460000e+05\n",
       "Ford             5.712731e+05\n",
       "Honda            5.381468e+05\n",
       "Hyundai          4.199403e+05\n",
       "Isuzu            1.500000e+06\n",
       "Jaguar           2.069166e+06\n",
       "Jeep             1.530000e+06\n",
       "Kia              1.300000e+06\n",
       "Land Rover       3.609800e+06\n",
       "MG               1.842500e+06\n",
       "Mahindra         5.877095e+05\n",
       "Maruti           3.424163e+05\n",
       "Mercedes-Benz    2.776657e+06\n",
       "Mitsubishi       8.400000e+05\n",
       "Nissan           4.499375e+05\n",
       "OpelCorsa        8.850000e+04\n",
       "Renault          4.193767e+05\n",
       "Skoda            4.900147e+05\n",
       "Tata             2.840834e+05\n",
       "Toyota           9.243592e+05\n",
       "Volkswagen       4.710373e+05\n",
       "Volvo            2.556250e+06\n",
       "Name: selling_price, dtype: float64"
      ]
     },
     "execution_count": 161,
     "metadata": {},
     "output_type": "execute_result"
    }
   ],
   "source": [
    "average_price_by_brand = df.groupby('Brand')['selling_price'].mean()\n",
    "\n",
    "# Afficher les moyennes de prix pour chaque marque\n",
    "average_price_by_brand"
   ]
  },
  {
   "cell_type": "code",
   "execution_count": 163,
   "id": "41aee9db-0589-452d-bda2-91b79978c33f",
   "metadata": {
    "tags": []
   },
   "outputs": [
    {
     "data": {
      "image/png": "[encoded data removed]",
      "text/plain": [
       "<Figure size 1000x600 with 1 Axes>"
      ]
     },
     "metadata": {},
     "output_type": "display_data"
    },
    {
     "name": "stdout",
     "output_type": "stream",
     "text": [
      "Land rover is the most expensive car\n"
     ]
    }
   ],
   "source": [
    "import matplotlib.pyplot as plt\n",
    "# Créer un histogramme\n",
    "plt.figure(figsize=(10, 6))\n",
    "average_price_by_brand.sort_values().plot(kind='bar', color='skyblue')\n",
    "plt.title('Average price by Brand')\n",
    "plt.xlabel('Brand')\n",
    "plt.ylabel('Price')\n",
    "plt.xticks(rotation=45, ha='right')\n",
    "plt.tight_layout()\n",
    "\n",
    "# Afficher l'histogramme\n",
    "plt.show()\n",
    "print(\"Land rover is the most expensive car\")\n"
   ]
  },
  {
   "cell_type": "code",
   "execution_count": 164,
   "id": "5782971d-9458-410a-ace2-f57eed168a1b",
   "metadata": {},
   "outputs": [
    {
     "data": {
      "image/png": "[encoded data removed]",
      "text/plain": [
       "<Figure size 640x480 with 1 Axes>"
      ]
     },
     "metadata": {},
     "output_type": "display_data"
    },
    {
     "name": "stdout",
     "output_type": "stream",
     "text": [
      "Fuel Types distribution in cars is Dominated by Diesel and Petrol\n"
     ]
    }
   ],
   "source": [
    "import matplotlib.pyplot as plt\n",
    "import seaborn as sns\n",
    "value_counts = df[\"fuel\"].value_counts()\n",
    "\n",
    "# Randomly reorder the values\n",
    "\n",
    "fig, ax = plt.subplots()\n",
    "\n",
    "ax.pie(value_counts, labels=value_counts.index, autopct='%1.1f%%',\n",
    "       textprops={'size': 'smaller'}, radius=1)\n",
    "plt.legend()\n",
    "plt.title('Distribution of Car Fuels')\n",
    "plt.show()\n",
    "\n",
    "# Show the plot\n",
    "\n",
    "print(\"Fuel Types distribution in cars is Dominated by Diesel and Petrol\")"
   ]
  },
  {
   "cell_type": "code",
   "execution_count": 167,
   "id": "caa63480-e2ae-4d85-880f-c4a93deff0de",
   "metadata": {
    "tags": []
   },
   "outputs": [
    {
     "data": {
      "text/plain": [
       "array([2007, 2012, 2017, 2014, 2016, 2015, 2018, 2019, 2013, 2011, 2010,\n",
       "       2009, 2006, 1996, 2005, 2008, 2004, 1998, 2003, 2002, 2020, 2000,\n",
       "       1999, 2001, 1995, 1997, 1992], dtype=int64)"
      ]
     },
     "execution_count": 167,
     "metadata": {},
     "output_type": "execute_result"
    }
   ],
   "source": [
    "df[\"year\"].unique()"
   ]
  },
  {
   "cell_type": "code",
   "execution_count": 169,
   "id": "daf6f4f5-8b0b-4806-be66-a3ea477b7725",
   "metadata": {},
   "outputs": [
    {
     "name": "stdout",
     "output_type": "stream",
     "text": [
      "Majority of first owners are individuals\n"
     ]
    },
    {
     "data": {
      "image/png": "[encoded data removed]",
      "text/plain": [
       "<Figure size 1500x500 with 1 Axes>"
      ]
     },
     "metadata": {},
     "output_type": "display_data"
    }
   ],
   "source": [
    "fig, ax = plt.subplots(figsize = (15,5))\n",
    "plt1 = sns.countplot(x='seller_type',hue='owner', data=df,palette='pastel')\n",
    "plt.title('Comparing owners to seller types')\n",
    "print(\"Majority of first owners are individuals\")"
   ]
  },
  {
   "cell_type": "code",
   "execution_count": 171,
   "id": "cf895c01-0594-4089-927c-ff012a93ca77",
   "metadata": {},
   "outputs": [],
   "source": [
    "name_encode=pd.get_dummies(df['name'])\n",
    "fuel_encode=pd.get_dummies(df['fuel'])\n",
    "seller_type_encode=pd.get_dummies(df['seller_type'])\n",
    "transmission_encode=pd.get_dummies(df['transmission'])\n",
    "owner_encode=pd.get_dummies(df['owner'])\n",
    "Brand_encode=pd.get_dummies(df['Brand'])\n",
    "df_encoded = pd.concat([df, name_encode], axis=1)\n"
   ]
  },
  {
   "cell_type": "code",
   "execution_count": 173,
   "id": "55556187-c06c-4416-9a2f-89f9c3f732b7",
   "metadata": {
    "tags": []
   },
   "outputs": [
    {
     "data": {
      "text/html": [
       "<div>\n",
       "<style scoped>\n",
       "    .dataframe tbody tr th:only-of-type {\n",
       "        vertical-align: middle;\n",
       "    }\n",
       "\n",
       "    .dataframe tbody tr th {\n",
       "        vertical-align: top;\n",
       "    }\n",
       "\n",
       "    .dataframe thead th {\n",
       "        text-align: right;\n",
       "    }\n",
       "</style>\n",
       "<table border=\"1\" class=\"dataframe\">\n",
       "  <thead>\n",
       "    <tr style=\"text-align: right;\">\n",
       "      <th></th>\n",
       "      <th>Brand</th>\n",
       "      <th>Name</th>\n",
       "      <th>Year</th>\n",
       "      <th>Selling price</th>\n",
       "      <th>Km driven</th>\n",
       "      <th>Fuel</th>\n",
       "      <th>Seller type</th>\n",
       "      <th>Transmission</th>\n",
       "      <th>Owner</th>\n",
       "    </tr>\n",
       "  </thead>\n",
       "  <tbody>\n",
       "    <tr>\n",
       "      <th>0</th>\n",
       "      <td>18</td>\n",
       "      <td>775</td>\n",
       "      <td>2007</td>\n",
       "      <td>60000</td>\n",
       "      <td>70000</td>\n",
       "      <td>4</td>\n",
       "      <td>1</td>\n",
       "      <td>1</td>\n",
       "      <td>0</td>\n",
       "    </tr>\n",
       "    <tr>\n",
       "      <th>1</th>\n",
       "      <td>18</td>\n",
       "      <td>1041</td>\n",
       "      <td>2007</td>\n",
       "      <td>135000</td>\n",
       "      <td>50000</td>\n",
       "      <td>4</td>\n",
       "      <td>1</td>\n",
       "      <td>1</td>\n",
       "      <td>0</td>\n",
       "    </tr>\n",
       "    <tr>\n",
       "      <th>2</th>\n",
       "      <td>10</td>\n",
       "      <td>505</td>\n",
       "      <td>2012</td>\n",
       "      <td>600000</td>\n",
       "      <td>100000</td>\n",
       "      <td>1</td>\n",
       "      <td>1</td>\n",
       "      <td>1</td>\n",
       "      <td>0</td>\n",
       "    </tr>\n",
       "    <tr>\n",
       "      <th>3</th>\n",
       "      <td>5</td>\n",
       "      <td>118</td>\n",
       "      <td>2017</td>\n",
       "      <td>250000</td>\n",
       "      <td>46000</td>\n",
       "      <td>4</td>\n",
       "      <td>1</td>\n",
       "      <td>1</td>\n",
       "      <td>0</td>\n",
       "    </tr>\n",
       "    <tr>\n",
       "      <th>4</th>\n",
       "      <td>9</td>\n",
       "      <td>279</td>\n",
       "      <td>2014</td>\n",
       "      <td>450000</td>\n",
       "      <td>141000</td>\n",
       "      <td>1</td>\n",
       "      <td>1</td>\n",
       "      <td>1</td>\n",
       "      <td>2</td>\n",
       "    </tr>\n",
       "    <tr>\n",
       "      <th>...</th>\n",
       "      <td>...</td>\n",
       "      <td>...</td>\n",
       "      <td>...</td>\n",
       "      <td>...</td>\n",
       "      <td>...</td>\n",
       "      <td>...</td>\n",
       "      <td>...</td>\n",
       "      <td>...</td>\n",
       "      <td>...</td>\n",
       "    </tr>\n",
       "    <tr>\n",
       "      <th>4335</th>\n",
       "      <td>10</td>\n",
       "      <td>602</td>\n",
       "      <td>2014</td>\n",
       "      <td>409999</td>\n",
       "      <td>80000</td>\n",
       "      <td>1</td>\n",
       "      <td>1</td>\n",
       "      <td>1</td>\n",
       "      <td>2</td>\n",
       "    </tr>\n",
       "    <tr>\n",
       "      <th>4336</th>\n",
       "      <td>10</td>\n",
       "      <td>601</td>\n",
       "      <td>2014</td>\n",
       "      <td>409999</td>\n",
       "      <td>80000</td>\n",
       "      <td>1</td>\n",
       "      <td>1</td>\n",
       "      <td>1</td>\n",
       "      <td>2</td>\n",
       "    </tr>\n",
       "    <tr>\n",
       "      <th>4337</th>\n",
       "      <td>18</td>\n",
       "      <td>777</td>\n",
       "      <td>2009</td>\n",
       "      <td>110000</td>\n",
       "      <td>83000</td>\n",
       "      <td>4</td>\n",
       "      <td>1</td>\n",
       "      <td>1</td>\n",
       "      <td>2</td>\n",
       "    </tr>\n",
       "    <tr>\n",
       "      <th>4338</th>\n",
       "      <td>10</td>\n",
       "      <td>381</td>\n",
       "      <td>2016</td>\n",
       "      <td>865000</td>\n",
       "      <td>90000</td>\n",
       "      <td>1</td>\n",
       "      <td>1</td>\n",
       "      <td>1</td>\n",
       "      <td>0</td>\n",
       "    </tr>\n",
       "    <tr>\n",
       "      <th>4339</th>\n",
       "      <td>23</td>\n",
       "      <td>1154</td>\n",
       "      <td>2016</td>\n",
       "      <td>225000</td>\n",
       "      <td>40000</td>\n",
       "      <td>4</td>\n",
       "      <td>1</td>\n",
       "      <td>1</td>\n",
       "      <td>0</td>\n",
       "    </tr>\n",
       "  </tbody>\n",
       "</table>\n",
       "<p>4340 rows × 9 columns</p>\n",
       "</div>"
      ],
      "text/plain": [
       "      Brand  Name  Year  Selling price  Km driven  Fuel  Seller type  \\\n",
       "0        18   775  2007          60000      70000     4            1   \n",
       "1        18  1041  2007         135000      50000     4            1   \n",
       "2        10   505  2012         600000     100000     1            1   \n",
       "3         5   118  2017         250000      46000     4            1   \n",
       "4         9   279  2014         450000     141000     1            1   \n",
       "...     ...   ...   ...            ...        ...   ...          ...   \n",
       "4335     10   602  2014         409999      80000     1            1   \n",
       "4336     10   601  2014         409999      80000     1            1   \n",
       "4337     18   777  2009         110000      83000     4            1   \n",
       "4338     10   381  2016         865000      90000     1            1   \n",
       "4339     23  1154  2016         225000      40000     4            1   \n",
       "\n",
       "      Transmission  Owner  \n",
       "0                1      0  \n",
       "1                1      0  \n",
       "2                1      0  \n",
       "3                1      0  \n",
       "4                1      2  \n",
       "...            ...    ...  \n",
       "4335             1      2  \n",
       "4336             1      2  \n",
       "4337             1      2  \n",
       "4338             1      0  \n",
       "4339             1      0  \n",
       "\n",
       "[4340 rows x 9 columns]"
      ]
     },
     "execution_count": 173,
     "metadata": {},
     "output_type": "execute_result"
    }
   ],
   "source": [
    "\n",
    "from sklearn.preprocessing import LabelEncoder\n",
    "\n",
    "# Create LabelEncoder object\n",
    "label_encoder = LabelEncoder()\n",
    "\n",
    "# Fit and transform the categorical column\n",
    "name_encode=label_encoder.fit_transform(df[\"name\"])\n",
    "fuel_encode=label_encoder.fit_transform(df[\"fuel\"])\n",
    "seller_type_encode=label_encoder.fit_transform(df[\"seller_type\"])\n",
    "transmission_encode=label_encoder.fit_transform(df[\"transmission\"])\n",
    "owner_encode=label_encoder.fit_transform(df[\"owner\"])\n",
    "Brand_encode=label_encoder.fit_transform(df[\"Brand\"])\n",
    "#df_encoded = pd.concat([df, name_encode], axis=1)\n",
    "df_encoded=df\n",
    "df_encoded={\"Brand\":Brand_encode,\"Name\":name_encode,\"Year\":df[\"year\"],\"Selling price\":df[\"selling_price\"],\"Km driven\":df[\"km_driven\"],\"Fuel\":fuel_encode,\"Seller type\":seller_type_encode,\"Transmission\":transmission_encode,\"Owner\":owner_encode}\n",
    "df_encoded=pd.DataFrame(df_encoded)\n",
    "df_encoded\n"
   ]
  },
  {
   "cell_type": "code",
   "execution_count": 175,
   "id": "4e24bf75-0651-4569-a952-e34bc484462f",
   "metadata": {
    "tags": []
   },
   "outputs": [],
   "source": [
    "Y=df_encoded[\"Selling price\"]\n",
    "X=df_encoded.drop(columns=\"Selling price\",axis=1)\n",
    "\n"
   ]
  },
  {
   "cell_type": "code",
   "execution_count": 177,
   "id": "eab99285-0daa-4715-9934-475f4e516777",
   "metadata": {
    "tags": []
   },
   "outputs": [],
   "source": [
    "from sklearn.model_selection import train_test_split\n",
    "\n",
    "# Assuming X contains your features and y contains your target variable\n",
    "# X and y should be numpy arrays or pandas DataFrames/Series\n",
    "X_train, X_test, y_train, y_test = train_test_split(X, Y, test_size=0.2, random_state=1)\n"
   ]
  },
  {
   "cell_type": "code",
   "execution_count": 179,
   "id": "05e6aa01-065c-4adc-9268-a134e44dbc9d",
   "metadata": {
    "tags": []
   },
   "outputs": [],
   "source": [
    "from sklearn.linear_model import LinearRegression\n",
    "from sklearn.metrics import mean_squared_error, r2_score"
   ]
  },
  {
   "cell_type": "code",
   "execution_count": 181,
   "id": "bfe32490-8f06-4108-8b2b-886d2533912f",
   "metadata": {
    "tags": []
   },
   "outputs": [
    {
     "data": {
      "text/html": [
       "<style>#sk-container-id-5 {color: black;background-color: white;}#sk-container-id-5 pre{padding: 0;}#sk-container-id-5 div.sk-toggleable {background-color: white;}#sk-container-id-5 label.sk-toggleable__label {cursor: pointer;display: block;width: 100%;margin-bottom: 0;padding: 0.3em;box-sizing: border-box;text-align: center;}#sk-container-id-5 label.sk-toggleable__label-arrow:before {content: \"▸\";float: left;margin-right: 0.25em;color: #696969;}#sk-container-id-5 label.sk-toggleable__label-arrow:hover:before {color: black;}#sk-container-id-5 div.sk-estimator:hover label.sk-toggleable__label-arrow:before {color: black;}#sk-container-id-5 div.sk-toggleable__content {max-height: 0;max-width: 0;overflow: hidden;text-align: left;background-color: #f0f8ff;}#sk-container-id-5 div.sk-toggleable__content pre {margin: 0.2em;color: black;border-radius: 0.25em;background-color: #f0f8ff;}#sk-container-id-5 input.sk-toggleable__control:checked~div.sk-toggleable__content {max-height: 200px;max-width: 100%;overflow: auto;}#sk-container-id-5 input.sk-toggleable__control:checked~label.sk-toggleable__label-arrow:before {content: \"▾\";}#sk-container-id-5 div.sk-estimator input.sk-toggleable__control:checked~label.sk-toggleable__label {background-color: #d4ebff;}#sk-container-id-5 div.sk-label input.sk-toggleable__control:checked~label.sk-toggleable__label {background-color: #d4ebff;}#sk-container-id-5 input.sk-hidden--visually {border: 0;clip: rect(1px 1px 1px 1px);clip: rect(1px, 1px, 1px, 1px);height: 1px;margin: -1px;overflow: hidden;padding: 0;position: absolute;width: 1px;}#sk-container-id-5 div.sk-estimator {font-family: monospace;background-color: #f0f8ff;border: 1px dotted black;border-radius: 0.25em;box-sizing: border-box;margin-bottom: 0.5em;}#sk-container-id-5 div.sk-estimator:hover {background-color: #d4ebff;}#sk-container-id-5 div.sk-parallel-item::after {content: \"\";width: 100%;border-bottom: 1px solid gray;flex-grow: 1;}#sk-container-id-5 div.sk-label:hover label.sk-toggleable__label {background-color: #d4ebff;}#sk-container-id-5 div.sk-serial::before {content: \"\";position: absolute;border-left: 1px solid gray;box-sizing: border-box;top: 0;bottom: 0;left: 50%;z-index: 0;}#sk-container-id-5 div.sk-serial {display: flex;flex-direction: column;align-items: center;background-color: white;padding-right: 0.2em;padding-left: 0.2em;position: relative;}#sk-container-id-5 div.sk-item {position: relative;z-index: 1;}#sk-container-id-5 div.sk-parallel {display: flex;align-items: stretch;justify-content: center;background-color: white;position: relative;}#sk-container-id-5 div.sk-item::before, #sk-container-id-5 div.sk-parallel-item::before {content: \"\";position: absolute;border-left: 1px solid gray;box-sizing: border-box;top: 0;bottom: 0;left: 50%;z-index: -1;}#sk-container-id-5 div.sk-parallel-item {display: flex;flex-direction: column;z-index: 1;position: relative;background-color: white;}#sk-container-id-5 div.sk-parallel-item:first-child::after {align-self: flex-end;width: 50%;}#sk-container-id-5 div.sk-parallel-item:last-child::after {align-self: flex-start;width: 50%;}#sk-container-id-5 div.sk-parallel-item:only-child::after {width: 0;}#sk-container-id-5 div.sk-dashed-wrapped {border: 1px dashed gray;margin: 0 0.4em 0.5em 0.4em;box-sizing: border-box;padding-bottom: 0.4em;background-color: white;}#sk-container-id-5 div.sk-label label {font-family: monospace;font-weight: bold;display: inline-block;line-height: 1.2em;}#sk-container-id-5 div.sk-label-container {text-align: center;}#sk-container-id-5 div.sk-container {/* jupyter's `normalize.less` sets `[hidden] { display: none; }` but bootstrap.min.css set `[hidden] { display: none !important; }` so we also need the `!important` here to be able to override the default hidden behavior on the sphinx rendered scikit-learn.org. See: https://github.com/scikit-learn/scikit-learn/issues/21755 */display: inline-block !important;position: relative;}#sk-container-id-5 div.sk-text-repr-fallback {display: none;}</style><div id=\"sk-container-id-5\" class=\"sk-top-container\"><div class=\"sk-text-repr-fallback\"><pre>LinearRegression()</pre><b>In a Jupyter environment, please rerun this cell to show the HTML representation or trust the notebook. <br />On GitHub, the HTML representation is unable to render, please try loading this page with nbviewer.org.</b></div><div class=\"sk-container\" hidden><div class=\"sk-item\"><div class=\"sk-estimator sk-toggleable\"><input class=\"sk-toggleable__control sk-hidden--visually\" id=\"sk-estimator-id-5\" type=\"checkbox\" checked><label for=\"sk-estimator-id-5\" class=\"sk-toggleable__label sk-toggleable__label-arrow\">LinearRegression</label><div class=\"sk-toggleable__content\"><pre>LinearRegression()</pre></div></div></div></div></div>"
      ],
      "text/plain": [
       "LinearRegression()"
      ]
     },
     "execution_count": 181,
     "metadata": {},
     "output_type": "execute_result"
    }
   ],
   "source": [
    "# Create linear regression object\n",
    "model = LinearRegression()\n",
    "\n",
    "# Train the model using the training sets\n",
    "model.fit(X_train, y_train)\n"
   ]
  },
  {
   "cell_type": "code",
   "execution_count": 183,
   "id": "4406a187-4a70-4d89-bb3a-b353db0d2cc3",
   "metadata": {
    "tags": []
   },
   "outputs": [
    {
     "data": {
      "text/plain": [
       "array([ 7.77020384e+05,  6.02790228e+05,  5.72925009e+05,  4.75132950e+05,\n",
       "        6.08298802e+05,  2.39891492e+04,  5.96828640e+05,  2.90853385e+05,\n",
       "        7.42484843e+05,  4.06117340e+05,  6.75181475e+05,  3.06032833e+05,\n",
       "        7.29058538e+05,  4.19643022e+04,  1.23326881e+04,  2.25207745e+05,\n",
       "        5.33798952e+05,  4.56083411e+05,  4.38932154e+05,  5.78900677e+05,\n",
       "        2.98095633e+05,  5.30531446e+05, -4.29947648e+04,  4.25672811e+05,\n",
       "        7.08326418e+05,  4.14949544e+05,  4.73100598e+05,  6.54032853e+05,\n",
       "        6.86517213e+05,  3.93974700e+05,  4.03432339e+05,  2.06214382e+04,\n",
       "        6.12664906e+05,  8.13606112e+05,  6.19124877e+05,  6.17608038e+05,\n",
       "        4.90005425e+05,  4.28914602e+05,  8.74884343e+04,  4.14801430e+05,\n",
       "        3.76897499e+05,  2.98003702e+05,  1.60935950e+05,  1.72557000e+05,\n",
       "        4.98223293e+05,  6.66921457e+05,  3.73300950e+05,  3.91289124e+05,\n",
       "        5.97571046e+05,  1.91005107e+05,  1.02778484e+06,  7.94100095e+05,\n",
       "        3.07895995e+05, -1.69201833e+05,  3.34174353e+05,  7.47162320e+05,\n",
       "       -1.47349919e+04,  7.47260845e+05,  4.83398206e+05,  3.57784908e+05,\n",
       "        1.57237265e+06,  4.47309524e+05,  3.33482426e+05, -6.00296840e+04,\n",
       "        5.67593494e+05,  5.89803449e+05, -2.95318121e+04,  4.95273369e+05,\n",
       "        4.57582529e+05,  3.22262213e+05,  4.21911285e+05,  4.23987722e+05,\n",
       "        1.61446698e+06,  4.93455453e+05,  5.53064417e+05, -1.06895221e+05,\n",
       "        2.66635226e+05,  5.44633561e+05,  6.05576818e+05,  5.76501592e+05,\n",
       "        5.15964454e+05,  2.12806936e+05, -2.35633569e+05,  6.30632047e+05,\n",
       "        1.89853399e+05,  1.50946973e+06,  1.26444803e+06,  2.66377810e+05,\n",
       "        1.32300290e+06,  1.76548447e+06,  5.07301975e+05,  4.06421423e+05,\n",
       "        9.00528921e+05,  3.88448559e+05,  7.66859203e+05,  6.39182114e+05,\n",
       "        3.89603272e+05,  5.21046428e+05,  4.69281150e+05, -1.30741054e+05,\n",
       "        9.06457814e+04,  4.42600493e+05,  5.90246679e+05,  5.16641214e+05,\n",
       "        7.18195991e+05,  3.48520420e+05,  7.95791941e+05,  8.83472582e+04,\n",
       "        4.09364507e+05,  6.47850228e+05,  2.22713506e+05,  6.56998628e+05,\n",
       "        5.10100447e+05,  5.42601889e+05,  3.58452833e+05,  4.56665168e+05,\n",
       "        1.76022614e+05,  4.79950757e+05,  4.86645424e+05,  2.55108543e+04,\n",
       "        6.62802924e+05,  1.09830325e+05,  4.25571058e+05,  1.50393831e+05,\n",
       "        7.53001758e+05,  1.33050687e+06,  5.49316934e+05,  4.98357659e+05,\n",
       "        1.39157766e+06,  1.38400926e+06,  7.06888663e+05,  1.34771673e+05,\n",
       "        7.58289040e+05,  3.11544981e+05,  5.03230328e+05,  1.02493351e+05,\n",
       "       -1.84074366e+05,  5.74458006e+05,  7.75659621e+05,  1.96504104e+05,\n",
       "        1.54541306e+06,  6.45913877e+05,  7.07559175e+05,  3.09663526e+05,\n",
       "        6.86202622e+05,  2.62625999e+05,  4.15472252e+05,  5.64867194e+05,\n",
       "        4.97662242e+05,  2.59899103e+05,  5.00218521e+05,  3.83908269e+05,\n",
       "        4.65365936e+04, -1.65710288e+05,  6.35338189e+05,  1.45010985e+05,\n",
       "        5.36464278e+05,  5.56059515e+05,  7.19777882e+05,  3.18781098e+04,\n",
       "        5.84620608e+05,  8.08551187e+05,  5.64561953e+04,  8.20873908e+05,\n",
       "       -1.82278421e+05,  3.61777540e+05,  2.42877716e+05,  4.57350146e+05,\n",
       "        6.14679225e+05,  4.20920569e+05,  8.52005777e+05,  1.97367444e+05,\n",
       "        2.53895497e+05,  4.28373389e+05,  6.43287934e+05,  6.74942229e+04,\n",
       "        4.54681436e+05,  4.34738281e+05,  4.47952417e+05,  2.06501080e+05,\n",
       "        1.11133346e+06,  7.61339391e+05,  1.24807857e+04, -6.79390414e+04,\n",
       "        1.70584662e+06,  2.41779305e+05,  5.24596701e+05,  1.54153967e+06,\n",
       "        6.23201025e+05,  1.75316675e+05,  6.95533206e+04,  4.53711246e+05,\n",
       "        4.34908831e+05,  5.37115616e+05, -8.56005680e+04,  3.93951750e+05,\n",
       "        5.27801670e+05,  3.65661281e+04,  2.61437840e+05,  7.54814380e+05,\n",
       "        4.29341761e+05,  6.12128195e+04,  5.03703318e+05,  1.74380566e+05,\n",
       "        4.08692896e+05,  6.16885583e+05,  3.20273753e+05,  5.59629766e+05,\n",
       "        3.68058925e+05,  5.54039050e+05,  6.07688505e+05, -1.31448149e+05,\n",
       "        4.08228111e+05,  3.28398184e+05,  4.68262391e+05,  6.28402919e+05,\n",
       "        1.66690949e+06,  6.66524480e+05,  3.62447168e+05,  3.44173025e+05,\n",
       "        2.96408410e+05,  5.14960724e+05, -9.46733329e+03,  1.86637858e+05,\n",
       "        5.33847388e+05,  7.39033006e+05, -3.88748984e+04,  3.86674389e+05,\n",
       "        2.54772319e+05,  4.09832856e+05,  3.46665039e+05,  7.29516254e+05,\n",
       "        2.86499077e+05,  6.05422916e+05,  1.69791389e+06,  1.03255868e+05,\n",
       "        5.20262458e+05,  4.90764447e+05,  4.17593053e+05,  4.33507017e+05,\n",
       "        4.11748529e+05,  7.12898969e+05, -1.07451806e+05,  4.28292596e+05,\n",
       "        5.96828640e+05, -4.25779192e+05,  5.39000573e+05,  7.12400261e+05,\n",
       "        1.04029214e+06,  3.51680662e+05,  4.88916027e+05,  1.68048098e+06,\n",
       "        7.96261546e+04,  5.45921418e+05,  4.49826926e+05,  5.08232736e+05,\n",
       "        5.33669574e+05,  5.31906406e+05,  6.29042672e+05,  6.07650632e+05,\n",
       "        4.58873399e+02,  4.00034061e+05,  5.27032145e+05,  2.02805306e+04,\n",
       "        6.32705502e+05, -4.99794373e+04,  7.49174584e+05,  4.58241235e+05,\n",
       "        7.17033488e+05,  6.76311885e+04,  7.51329333e+04,  6.85879107e+05,\n",
       "        4.94752741e+05,  6.78737708e+05,  3.04862827e+05,  3.15950931e+05,\n",
       "        5.70028848e+05,  3.46219861e+05,  3.65661281e+04,  5.98516751e+05,\n",
       "        5.47813924e+05,  2.69257036e+05,  6.78424603e+05,  6.83868947e+05,\n",
       "        4.92795368e+05,  3.46398259e+05,  3.61981074e+05,  4.35969863e+05,\n",
       "        1.97367444e+05,  1.71859979e+05,  5.93605747e+05,  6.96459313e+05,\n",
       "        4.54761568e+05,  4.95447220e+05,  6.25312604e+05,  1.92824760e+05,\n",
       "        5.53300983e+05, -3.05579173e+05,  4.10472177e+03,  6.66921457e+05,\n",
       "        1.57599974e+05,  3.46398259e+05,  6.53034448e+05,  4.22680931e+05,\n",
       "        5.88973558e+05,  4.05269844e+05,  6.81858123e+05,  8.22526745e+05,\n",
       "        1.03215278e+05,  1.53202266e+06,  4.07731243e+05,  4.67955562e+05,\n",
       "       -1.81679445e+04,  4.43961247e+05,  1.55405221e+05,  3.88448559e+05,\n",
       "        6.29083299e+05,  5.36182759e+05,  7.02214511e+05, -3.10324376e+05,\n",
       "        6.86202622e+05,  1.57412933e+05,  4.43961247e+05,  2.70928620e+05,\n",
       "       -5.41416108e+04,  4.94506843e+05,  4.19356725e+05,  6.45227320e+05,\n",
       "        2.75172588e+05, -6.51795967e+04,  5.55529379e+05,  4.26489339e+05,\n",
       "        2.90185791e+05,  4.03432339e+05,  2.22196996e+05,  4.64768356e+05,\n",
       "        5.57690072e+05,  5.64719832e+05,  6.86202622e+05,  4.13018535e+05,\n",
       "        1.50772163e+06,  4.17457297e+05,  1.49862999e+05,  5.07373483e+05,\n",
       "        4.20567282e+05,  6.45073593e+05,  6.83408114e+05,  3.97093918e+05,\n",
       "        8.74329979e+05,  3.43289211e+05,  2.40825806e+05,  4.00795524e+05,\n",
       "        7.66473065e+05,  6.18582277e+05,  3.82333011e+05,  3.94702185e+05,\n",
       "        3.72457998e+05,  7.08714446e+05,  3.98239195e+05,  1.38524798e+05,\n",
       "        5.40416320e+05,  5.56052809e+05,  4.24214436e+05,  2.75403817e+05,\n",
       "        4.40963377e+05,  3.30355648e+05,  6.61180278e+05,  7.10637974e+05,\n",
       "        2.65772929e+05, -2.35884247e+04,  8.74329979e+05,  4.19187627e+05,\n",
       "        3.40287687e+05,  1.50886075e+06,  4.29557541e+05,  7.58289040e+05,\n",
       "        4.22600954e+05,  5.47889724e+05,  5.76448737e+05,  5.71738647e+05,\n",
       "        3.49349523e+05,  7.09989725e+05,  2.48912767e+05,  1.45233123e+05,\n",
       "        2.66467472e+05, -1.34402171e+05,  3.71730617e+05,  3.04479058e+05,\n",
       "        5.88956790e+05,  6.54908487e+05,  4.97355113e+05,  3.05191679e+05,\n",
       "        4.79208619e+05,  2.86412699e+05,  4.39546400e+05,  6.44203552e+05,\n",
       "        7.41782262e+05,  2.60167441e+05,  3.89603272e+05,  1.76548447e+06,\n",
       "        4.81469040e+05,  1.35442693e+05,  3.54011396e+05,  1.54924294e+06,\n",
       "        1.54275727e+06,  5.37130312e+04,  1.25730064e+06,  5.31471688e+05,\n",
       "        6.20389591e+05,  7.84033031e+05,  1.77621749e+05,  1.71812276e+06,\n",
       "        3.18314447e+05,  3.17518692e+05,  4.57679439e+05,  3.13161110e+05,\n",
       "        6.03087095e+05,  2.62640326e+05,  4.08535980e+05,  5.28091922e+04,\n",
       "        4.80547854e+05,  3.97740801e+05,  3.38382974e+05,  3.24955711e+05,\n",
       "       -2.81293572e+03,  7.52906657e+05, -4.96289178e+04,  2.51644055e+05,\n",
       "        5.11572958e+05,  4.74277780e+05,  1.14746071e+06,  1.50946973e+06,\n",
       "        4.89465929e+05,  3.77881601e+05,  2.31876147e+05,  6.77444065e+05,\n",
       "        6.74647966e+05,  6.52080692e+05,  6.62608636e+05,  6.24997063e+05,\n",
       "        1.56296024e+06,  5.98865154e+05,  6.37907610e+05,  4.65220703e+05,\n",
       "        3.23439213e+05,  6.51016658e+05,  5.59234659e+05, -1.29683439e+05,\n",
       "        5.09933436e+05,  6.84276840e+05, -2.90313199e+04,  5.16436058e+05,\n",
       "        6.18662604e+05,  4.19328980e+05,  3.13293808e+05,  4.58887115e+05,\n",
       "        5.39998360e+05,  7.17033488e+05,  4.19118046e+05,  1.75627054e+05,\n",
       "        7.53053228e+05,  2.16899482e+05,  1.24242235e+06,  6.53482561e+05,\n",
       "        3.55889727e+05,  1.69791389e+06,  5.66462408e+05, -2.44600116e+05,\n",
       "        4.56117652e+05,  2.59183392e+05,  2.93733572e+05,  7.43225073e+05,\n",
       "        4.21033775e+05,  4.95428353e+05,  3.93935113e+05,  2.68268494e+05,\n",
       "        6.21979663e+05, -4.55512118e+04,  6.22061944e+05,  5.06279639e+05,\n",
       "        4.25672811e+05,  3.82247222e+05,  5.37206646e+05,  1.14896146e+06,\n",
       "        1.07290751e+05,  4.08571982e+05,  5.04930982e+05,  5.05060248e+05,\n",
       "        2.05949289e+05,  7.87981113e+05,  2.15885444e+05,  1.37453300e+05,\n",
       "        1.72557000e+05, -8.76146420e+04,  3.10578401e+05,  1.14019377e+06,\n",
       "        1.87569077e+05,  4.33241049e+05,  5.13457171e+05,  2.62186741e+05,\n",
       "        4.02964887e+05,  2.34085094e+05,  3.50906762e+05,  3.18549587e+05,\n",
       "        3.29090396e+05,  5.16558296e+05,  7.94835478e+05,  5.03230328e+05,\n",
       "        8.25735045e+05,  5.21709406e+05,  1.29876510e+06,  1.18353016e+04,\n",
       "        2.82635123e+04,  7.93368314e+05, -6.85332356e+04,  6.83390133e+04,\n",
       "       -2.35884247e+04,  3.47362269e+05,  1.41194406e+05,  3.43094819e+05,\n",
       "       -6.48709647e+04,  6.29162613e+05,  2.12806936e+05,  7.56049871e+05,\n",
       "        7.16561007e+05,  3.25658006e+05,  1.61525074e+05,  1.24011119e+06,\n",
       "        4.83254814e+04,  7.08470232e+05,  4.94624702e+05,  4.94533068e+05,\n",
       "        7.01170023e+05,  1.41625037e+05,  1.46783102e+06,  3.12080279e+05,\n",
       "        1.33848875e+05,  6.83771340e+05,  7.12898969e+05,  6.35630057e+05,\n",
       "        9.59752433e+03,  2.02805306e+04,  5.08366106e+05,  3.03673337e+05,\n",
       "        1.93767878e+05,  1.50882248e+05,  4.65082922e+05,  3.68058925e+05,\n",
       "        1.46602225e+05,  3.99865573e+05,  1.15565763e+06,  6.32734514e+05,\n",
       "        1.39301619e+06,  4.58531847e+05,  6.40453303e+05,  1.76452993e+06,\n",
       "        3.38243391e+05,  4.65255992e+05,  7.29398429e+05,  6.17569972e+05,\n",
       "        1.19907883e+06,  3.36627843e+05,  6.45967005e+05,  1.74380566e+05,\n",
       "       -3.58856786e+04,  5.59915177e+05,  1.17859480e+05,  4.49116731e+04,\n",
       "        1.25381563e+06,  2.28471039e+05,  8.04461394e+05,  1.54886490e+06,\n",
       "        5.18535629e+05,  5.40546171e+05,  3.28088052e+05,  5.63220848e+05,\n",
       "       -2.42003689e+05,  3.27693193e+05,  1.49023547e+06,  4.99573318e+05,\n",
       "        3.04611195e+05,  2.78370966e+05,  4.78711868e+05,  2.36327288e+05,\n",
       "        8.78115487e+05,  1.09593028e+05,  3.35052518e+05,  4.05649044e+05,\n",
       "        3.02144720e+05,  5.30663360e+05,  3.48928129e+05,  1.71812276e+06,\n",
       "       -1.30543661e+03,  4.99573318e+05,  6.86202622e+05,  4.87330889e+05,\n",
       "        3.88669021e+05,  7.25020471e+05,  4.59970519e+05,  9.73347219e+05,\n",
       "        6.98162987e+05,  4.66392967e+05,  4.78743072e+05,  4.10419240e+05,\n",
       "        5.83748168e+05,  7.77180684e+05,  3.30361037e+05, -4.06806967e+04,\n",
       "        1.54924294e+06,  4.29464697e+05,  5.46958813e+05,  4.31982024e+05,\n",
       "        6.24856173e+05,  7.17092848e+05,  2.11819238e+05,  2.35401746e+05,\n",
       "        1.72557000e+05,  5.10660842e+05,  7.51473939e+05,  1.93856818e+04,\n",
       "        4.08651844e+05,  2.76819742e+04,  4.26313158e+05,  5.44053311e+05,\n",
       "        5.52051154e+05,  7.13261865e+05, -2.34022527e+05,  4.93415732e+05,\n",
       "        3.45446540e+05,  4.29122203e+05,  4.86137233e+05,  4.14151391e+05,\n",
       "        3.68749051e+05,  2.65083940e+05,  7.75640322e+05,  4.29730544e+05,\n",
       "        2.90241212e+05,  4.95206993e+05,  4.03432339e+05,  6.03119508e+05,\n",
       "       -4.31452264e+04, -1.37677131e+04, -8.42867034e+03,  3.69496068e+05,\n",
       "        3.98482520e+05, -1.70853371e+04,  5.06186291e+05,  5.46884704e+05,\n",
       "        7.70553334e+05,  4.92795368e+05,  5.38118938e+05,  2.12806936e+05,\n",
       "        1.00918521e+04,  3.21921026e+05,  5.92661852e+05,  4.47916597e+05,\n",
       "        1.25574292e+06,  4.95897546e+05,  2.07749950e+05,  3.88068494e+05,\n",
       "        4.58100672e+05,  1.54497639e+05,  7.74933475e+05,  3.65661281e+04,\n",
       "        3.65661281e+04,  4.64308840e+05,  8.05944326e+05,  6.19933298e+05,\n",
       "        2.79737868e+05,  3.48407671e+05,  8.57511265e+05,  3.19131420e+05,\n",
       "        4.89390230e+05,  4.54270179e+05, -8.42867034e+03,  3.02978970e+05,\n",
       "        4.93381866e+05,  3.18835074e+05, -1.26248088e+05,  4.81754279e+05,\n",
       "        3.66334832e+05,  8.53434134e+05,  3.30358945e+05,  1.26215125e+06,\n",
       "        5.09933436e+05,  6.67500059e+05,  1.43222393e+06, -1.21411473e+05,\n",
       "        5.16624102e+05,  5.01146636e+05,  5.94319586e+05,  6.61119163e+05,\n",
       "        6.53221851e+05,  8.10396013e+05,  5.32228392e+05,  4.82400506e+05,\n",
       "        1.40135965e+06,  1.17101273e+05,  3.82082189e+05,  2.53895497e+05,\n",
       "        6.50456562e+05,  7.24998900e+05,  5.81844731e+05,  3.61339740e+05,\n",
       "        6.80693455e+05,  7.21684998e+05,  1.45233407e+06,  1.56845562e+06,\n",
       "        4.64012030e+05,  3.56839594e+05,  2.39360494e+03,  4.85559006e+05,\n",
       "        6.84276840e+05,  6.25083538e+05,  8.69620685e+05, -3.77692832e+04,\n",
       "        4.29278195e+05,  2.46021280e+05,  7.21399863e+05,  7.03311329e+05,\n",
       "        6.82087042e+05,  8.03918765e+05,  4.90183614e+05, -3.53299616e+05,\n",
       "        4.34417218e+05,  5.40952482e+05,  3.20182426e+05,  1.81929723e+05,\n",
       "        7.88628909e+05,  4.87218441e+05,  7.51329333e+04,  3.67914373e+05,\n",
       "        7.13261865e+05,  1.22854410e+06,  3.54497013e+05,  4.35901403e+05,\n",
       "        4.07040792e+05,  3.75022334e+05,  6.97878495e+05,  6.86202622e+05,\n",
       "        7.56285216e+05, -1.70853371e+04,  1.76548447e+06,  4.92795368e+05,\n",
       "        6.66824635e+05,  5.61478826e+05,  5.31311325e+05,  1.50946973e+06,\n",
       "        5.73178015e+05,  4.75094914e+05,  5.13742692e+05,  2.42698240e+05,\n",
       "        1.34841784e+06,  6.84019086e+05,  7.58012010e+05,  2.67853476e+05,\n",
       "        1.36884842e+05,  6.12821351e+05,  3.20828417e+05,  2.79110936e+05,\n",
       "        3.58991751e+05,  5.01940889e+05,  2.69320477e+05,  7.57323623e+05,\n",
       "        1.95043989e+05,  5.50123541e+05,  1.54153967e+06,  2.00687484e+05,\n",
       "        4.93559793e+05,  1.02176464e+05, -2.77093236e+04,  3.96240667e+05,\n",
       "        2.30623590e+05,  6.13025053e+05,  1.28879079e+06,  4.72869683e+05,\n",
       "        4.26910655e+05,  6.98663136e+05,  4.44413951e+05,  6.62927031e+05,\n",
       "        4.22247023e+05,  1.48586935e+06,  2.78508146e+05,  5.88531566e+05,\n",
       "        1.70590100e+05,  5.18828479e+05,  3.65661281e+04,  4.94849886e+05,\n",
       "        3.39213385e+05,  3.68058925e+05,  2.95074670e+05,  1.96138338e+05,\n",
       "        7.58289040e+05,  5.43549798e+05,  7.37182238e+05,  4.98357659e+05,\n",
       "        3.46398259e+05,  3.95371675e+05,  1.59588637e+06,  6.51172553e+05,\n",
       "        1.89456259e+05,  2.31637246e+05,  6.76752296e+04,  8.51114560e+05,\n",
       "        6.89036715e+05,  5.41387458e+05,  6.03119508e+05,  5.28883773e+05,\n",
       "        5.73275011e+05,  1.34841784e+06,  5.70023120e+05,  4.57393947e+05,\n",
       "        2.38124965e+05,  4.94517555e+05,  2.20497144e+05,  6.02974195e+05,\n",
       "        6.32704259e+05,  5.07887347e+05,  1.56991937e+06,  2.45263864e+05,\n",
       "        2.88252128e+05,  2.16548587e+05, -2.14292300e+05,  1.84696775e+05,\n",
       "        1.52518075e+05,  8.02818985e+05,  3.56667278e+05,  4.44928814e+05,\n",
       "        2.71483366e+05,  6.61119163e+05,  1.38785675e+06,  2.58926783e+05,\n",
       "        6.55893992e+05,  4.59574016e+05,  8.62140749e+04,  5.29977735e+05,\n",
       "        8.29617255e+05,  5.78749616e+05,  5.03108989e+05,  4.69317944e+05,\n",
       "        1.49702308e+05,  5.56059515e+05,  4.25451261e+05,  1.41715773e+06,\n",
       "        3.02197575e+05,  7.04678104e+05,  7.09116539e+05,  5.90721146e+05,\n",
       "        9.29606270e+04,  7.47846151e+05,  5.48746646e+05,  4.38117132e+05,\n",
       "        7.58289040e+05,  6.62914900e+05,  7.15310012e+05,  6.36343544e+05,\n",
       "       -1.25186258e+05,  4.31669625e+05, -1.18666160e+05,  4.41807264e+04,\n",
       "        7.04678104e+05,  5.46155330e+05,  8.39855644e+04,  2.40581878e+05,\n",
       "        5.22115930e+05,  3.20363028e+05,  3.24284794e+05,  7.42610390e+05])"
      ]
     },
     "execution_count": 183,
     "metadata": {},
     "output_type": "execute_result"
    }
   ],
   "source": [
    "# Make predictions\n",
    "predictions = model.predict(X_test)\n",
    "predictions"
   ]
  },
  {
   "cell_type": "code",
   "execution_count": 185,
   "id": "22c1eac2-4839-470a-8745-6b553b787660",
   "metadata": {
    "tags": []
   },
   "outputs": [
    {
     "name": "stdout",
     "output_type": "stream",
     "text": [
      "Mean Squared Error: 151364399048.73083\n",
      "R-squared: 0.5000446871649252\n"
     ]
    }
   ],
   "source": [
    "# Evaluate the model\n",
    "mse = mean_squared_error(y_test, predictions)\n",
    "r2 = r2_score(y_test, predictions)\n",
    "\n",
    "print(\"Mean Squared Error:\", mse)\n",
    "print(\"R-squared:\", r2)\n"
   ]
  },
  {
   "cell_type": "code",
   "execution_count": 187,
   "id": "88a510d6-d3ce-41c9-9a33-ffaf4ade0a52",
   "metadata": {},
   "outputs": [],
   "source": [
    "from sklearn.linear_model import LinearRegression\n",
    "from sklearn.linear_model import Ridge\n",
    "RigeModel=Ridge(alpha=0.1)\n",
    "RigeModel.fit(X_train, y_train)\n",
    "prediction = RigeModel.predict(X_test)\n"
   ]
  },
  {
   "cell_type": "code",
   "execution_count": 189,
   "id": "a1016a02-e70f-44ea-bf6d-d646b1cd2090",
   "metadata": {
    "tags": []
   },
   "outputs": [
    {
     "name": "stdout",
     "output_type": "stream",
     "text": [
      "Mean Squared Error: 151369708053.71942\n",
      "R-squared: 0.5000271515669472\n"
     ]
    }
   ],
   "source": [
    "mse = mean_squared_error(y_test, prediction)\n",
    "r2 = r2_score(y_test, prediction)\n",
    "print(\"Mean Squared Error:\", mse)\n",
    "print(\"R-squared:\", r2)\n",
    "#X_train, X_test, y_train, y_test"
   ]
  },
  {
   "cell_type": "code",
   "execution_count": null,
   "id": "ea7c73f4-ee17-4182-bbfa-ab948f608803",
   "metadata": {},
   "outputs": [],
   "source": []
  }
 ],
 "metadata": {
  "kernelspec": {
   "display_name": "Python 3 (ipykernel)",
   "language": "python",
   "name": "python3"
  },
  "language_info": {
   "codemirror_mode": {
    "name": "ipython",
    "version": 3
   },
   "file_extension": ".py",
   "mimetype": "text/x-python",
   "name": "python",
   "nbconvert_exporter": "python",
   "pygments_lexer": "ipython3",
   "version": "3.11.7"
  }
 },
 "nbformat": 4,
 "nbformat_minor": 5
}
